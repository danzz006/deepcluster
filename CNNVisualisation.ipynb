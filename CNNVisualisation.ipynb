{
 "cells": [
  {
   "cell_type": "markdown",
   "metadata": {
    "id": "nBSztV_ob01R"
   },
   "source": [
    "# Visualization of CNN Layers and Filters"
   ]
  },
  {
   "cell_type": "markdown",
   "metadata": {
    "id": "m81kFpzKZjAP"
   },
   "source": [
    "## Outline\n",
    "1. Using torchvision.datasets with a custom folder of images\n",
    "2. Occlusion analysis with pretrained model\n",
    "3. Filter visualisation with pretrained model"
   ]
  },
  {
   "cell_type": "code",
   "execution_count": 1,
   "metadata": {
    "id": "1x6DI_8rIWdS"
   },
   "outputs": [],
   "source": [
    "import warnings\n",
    "warnings.filterwarnings(\"ignore\")"
   ]
  },
  {
   "cell_type": "code",
   "execution_count": 2,
   "metadata": {
    "id": "BFT5lgx3b-Fs"
   },
   "outputs": [],
   "source": [
    "import numpy as np\n",
    "import matplotlib.pyplot as plt\n",
    "import seaborn as sns\n",
    "\n",
    "import torch \n",
    "import torch.nn as nn\n",
    "import torchvision\n",
    "#import datasets in torchvision\n",
    "import torchvision.datasets as datasets\n",
    "\n",
    "#import model zoo in torchvision\n",
    "import torchvision.models as models\n",
    "import torchvision.transforms as transforms\n",
    "import models"
   ]
  },
  {
   "cell_type": "markdown",
   "metadata": {
    "id": "hcLEEvrClfJc"
   },
   "source": [
    "## Filter Visualization"
   ]
  },
  {
   "cell_type": "code",
   "execution_count": 3,
   "metadata": {
    "collapsed": true,
    "id": "AOI2LLPGtfRq"
   },
   "outputs": [
    {
     "ename": "TypeError",
     "evalue": "alexnet() got an unexpected keyword argument 'pretrained'",
     "output_type": "error",
     "traceback": [
      "\u001b[0;31m---------------------------------------------------------------------------\u001b[0m",
      "\u001b[0;31mTypeError\u001b[0m                                 Traceback (most recent call last)",
      "Input \u001b[0;32mIn [3]\u001b[0m, in \u001b[0;36m<module>\u001b[0;34m\u001b[0m\n\u001b[1;32m      1\u001b[0m \u001b[38;5;66;03m#for filter visualization, we will use alexnet pretrained with imagenet data\u001b[39;00m\n\u001b[0;32m----> 3\u001b[0m alexnet_model \u001b[38;5;241m=\u001b[39m \u001b[43mmodels\u001b[49m\u001b[38;5;241;43m.\u001b[39;49m\u001b[43malexnet\u001b[49m\u001b[43m(\u001b[49m\u001b[43mpretrained\u001b[49m\u001b[38;5;241;43m=\u001b[39;49m\u001b[38;5;28;43;01mFalse\u001b[39;49;00m\u001b[43m)\u001b[49m\n",
      "\u001b[0;31mTypeError\u001b[0m: alexnet() got an unexpected keyword argument 'pretrained'"
     ]
    }
   ],
   "source": [
    "#for filter visualization, we will use alexnet pretrained with imagenet data\n",
    "\n",
    "alexnet_model = models.alexnet(pretrained=False)"
   ]
  },
  {
   "cell_type": "code",
   "execution_count": 41,
   "metadata": {},
   "outputs": [
    {
     "data": {
      "text/plain": [
       "torch.Size([64, 3, 11, 11])"
      ]
     },
     "execution_count": 41,
     "metadata": {},
     "output_type": "execute_result"
    }
   ],
   "source": [
    "alexnet_model.features[0].weight.shape"
   ]
  },
  {
   "cell_type": "code",
   "execution_count": 4,
   "metadata": {},
   "outputs": [],
   "source": [
    "alex = models.__dict__['alexnet'](sobel=True)\n",
    "alex.top_layer = None"
   ]
  },
  {
   "cell_type": "code",
   "execution_count": 5,
   "metadata": {},
   "outputs": [],
   "source": [
    "checkpoint = torch.load(\"exp/checkpoints/checkpoint_7.0.pth.tar\")"
   ]
  },
  {
   "cell_type": "code",
   "execution_count": 45,
   "metadata": {},
   "outputs": [],
   "source": [
    "del checkpoint['state_dict']['top_layer.weight']\n",
    "del checkpoint['state_dict']['top_layer.bias']"
   ]
  },
  {
   "cell_type": "code",
   "execution_count": 14,
   "metadata": {},
   "outputs": [
    {
     "data": {
      "text/plain": [
       "tensor([[[[-3.1706e-01,  1.2682e-02, -6.8074e-02,  ..., -4.6456e-02,\n",
       "            8.0177e-02,  1.6198e-01],\n",
       "          [-1.6483e-01,  2.7293e-02, -8.7619e-02,  ..., -6.5056e-03,\n",
       "            5.9565e-02,  8.9221e-02],\n",
       "          [-1.5631e-01,  4.0101e-02,  2.6883e-02,  ..., -1.3116e-01,\n",
       "           -5.2662e-02,  7.4390e-02],\n",
       "          ...,\n",
       "          [-5.4534e-02,  7.7694e-02,  3.1696e-03,  ..., -1.6863e-01,\n",
       "           -3.0224e-02,  6.1910e-04],\n",
       "          [-6.1154e-02,  7.9644e-02,  4.8945e-02,  ..., -2.0685e-01,\n",
       "           -2.3352e-02, -4.7651e-02],\n",
       "          [ 8.2362e-03,  8.2883e-02,  1.7410e-02,  ..., -1.3362e-01,\n",
       "           -3.7699e-03, -1.4633e-01]],\n",
       "\n",
       "         [[-7.8378e-02,  9.3809e-02,  6.9531e-02,  ...,  5.8635e-02,\n",
       "            1.1107e-01,  5.4573e-02],\n",
       "          [-2.3118e-02, -2.0708e-02, -5.8776e-02,  ..., -1.3842e-02,\n",
       "           -4.3397e-02, -2.5238e-02],\n",
       "          [ 1.7035e-02,  2.8832e-03,  1.2109e-02,  ...,  2.3785e-02,\n",
       "            3.4017e-02,  3.8745e-02],\n",
       "          ...,\n",
       "          [-9.6027e-02, -8.2865e-02, -8.2177e-02,  ..., -7.1668e-02,\n",
       "           -1.0457e-01, -1.2459e-01],\n",
       "          [-6.9976e-02, -8.0685e-02, -7.0520e-02,  ..., -7.6255e-02,\n",
       "           -8.6734e-02, -1.2121e-01],\n",
       "          [-8.5399e-02, -1.0109e-01, -1.0841e-01,  ..., -8.9873e-02,\n",
       "           -1.1809e-01, -1.5917e-01]]],\n",
       "\n",
       "\n",
       "        [[[ 7.3965e-02,  1.1635e-01, -1.1728e-02,  ..., -2.1656e-01,\n",
       "            3.3613e-02, -2.9616e-01],\n",
       "          [-4.0366e-02,  3.7982e-02, -1.8059e-02,  ..., -1.0683e-01,\n",
       "            2.7228e-02, -1.2296e-01],\n",
       "          [ 1.3389e-02,  5.2503e-02,  2.4587e-02,  ..., -8.1847e-02,\n",
       "           -3.8038e-02, -4.5559e-02],\n",
       "          ...,\n",
       "          [-3.5331e-02, -3.2508e-02,  3.1828e-02,  ...,  8.2702e-02,\n",
       "           -5.9073e-03,  7.4962e-02],\n",
       "          [-5.6384e-02,  4.3661e-03,  2.0646e-02,  ...,  1.1157e-01,\n",
       "           -3.0611e-02,  1.1276e-01],\n",
       "          [-1.1653e-01,  1.6495e-02, -2.4247e-02,  ...,  1.4276e-01,\n",
       "           -4.2096e-03,  1.2591e-01]],\n",
       "\n",
       "         [[ 3.3721e-01,  1.7288e-01,  2.1780e-01,  ...,  3.0956e-01,\n",
       "            3.3742e-01,  2.7510e-01],\n",
       "          [-6.8350e-02, -9.3083e-02, -7.9534e-02,  ..., -9.8513e-02,\n",
       "           -2.6624e-02, -1.4153e-01],\n",
       "          [ 3.1561e-01,  2.8325e-01,  3.4397e-01,  ...,  3.3031e-01,\n",
       "            3.8991e-01,  2.3867e-01],\n",
       "          ...,\n",
       "          [ 1.0675e-01,  9.6942e-02,  1.5310e-01,  ...,  1.3800e-01,\n",
       "            1.6316e-01,  7.1118e-02],\n",
       "          [-2.5573e-02, -1.4199e-02,  1.8095e-02,  ...,  1.1485e-02,\n",
       "            1.3491e-02, -3.9722e-02],\n",
       "          [-2.3844e-03,  1.6781e-03,  5.0966e-02,  ...,  8.9626e-02,\n",
       "            6.7304e-02,  8.6528e-03]]],\n",
       "\n",
       "\n",
       "        [[[ 1.8927e-02, -1.1796e-02, -3.0089e-02,  ..., -4.5820e-02,\n",
       "            5.9004e-02, -3.2251e-02],\n",
       "          [ 8.9199e-03,  1.2406e-02, -1.5775e-02,  ..., -4.9278e-02,\n",
       "            3.5212e-02, -5.3681e-02],\n",
       "          [-4.5105e-03,  2.6377e-03,  3.3811e-04,  ..., -5.6803e-02,\n",
       "            4.7995e-02, -3.9143e-03],\n",
       "          ...,\n",
       "          [-9.0811e-03, -2.7031e-02, -5.6702e-02,  ...,  4.0419e-02,\n",
       "            1.0203e-01,  3.7257e-02],\n",
       "          [-4.7811e-02, -7.5564e-02, -7.2414e-02,  ...,  8.7440e-02,\n",
       "            1.1323e-01,  8.3142e-02],\n",
       "          [-2.7582e-02, -3.4025e-02,  5.8505e-02,  ...,  1.8769e-02,\n",
       "           -8.1552e-02,  8.3080e-02]],\n",
       "\n",
       "         [[-1.9415e-02,  9.7969e-03,  2.4682e-02,  ...,  4.5506e-03,\n",
       "           -9.2866e-03,  6.3232e-03],\n",
       "          [-7.0292e-03, -2.0343e-02, -3.0741e-02,  ..., -2.7042e-02,\n",
       "           -5.7264e-02, -3.2401e-02],\n",
       "          [ 3.0744e-02,  1.1380e-02, -3.7515e-02,  ..., -3.6105e-02,\n",
       "           -2.5401e-02,  2.9364e-02],\n",
       "          ...,\n",
       "          [-6.4763e-02, -1.1481e-01, -1.6655e-02,  ..., -3.4630e-02,\n",
       "            5.4123e-02, -4.0834e-02],\n",
       "          [ 1.9894e-01,  1.6218e-01,  3.6645e-01,  ...,  3.7729e-01,\n",
       "            3.4467e-01,  8.7295e-02],\n",
       "          [-3.1581e-02, -9.5626e-02, -1.0417e-01,  ..., -5.6147e-02,\n",
       "           -3.6004e-02, -8.1905e-02]]],\n",
       "\n",
       "\n",
       "        ...,\n",
       "\n",
       "\n",
       "        [[[ 3.6368e-02,  5.5638e-02, -4.3838e-02,  ..., -4.9087e-02,\n",
       "           -1.4255e-02, -2.4150e-01],\n",
       "          [ 1.1009e-02,  7.6129e-02, -1.5498e-02,  ..., -1.0235e-02,\n",
       "            1.4579e-03, -1.6132e-01],\n",
       "          [-1.2691e-02,  4.5720e-02, -3.5910e-03,  ..., -2.3763e-02,\n",
       "            8.5923e-05, -1.4366e-01],\n",
       "          ...,\n",
       "          [-1.6792e-01,  5.3798e-02,  8.9555e-02,  ...,  1.0213e-01,\n",
       "            1.1633e-02, -1.1064e-01],\n",
       "          [-2.3560e-01, -8.9633e-05, -1.2320e-02,  ...,  7.1533e-02,\n",
       "           -4.2355e-02, -1.0893e-01],\n",
       "          [-2.5789e-01, -1.1568e-01, -1.3596e-01,  ...,  8.6846e-03,\n",
       "           -9.1637e-03,  4.4201e-03]],\n",
       "\n",
       "         [[-4.0980e-02, -2.7002e-02,  2.7255e-02,  ...,  8.3772e-02,\n",
       "            1.7846e-01,  2.3742e-01],\n",
       "          [-5.3475e-02, -7.3518e-02, -2.7428e-03,  ...,  3.8387e-02,\n",
       "            2.5443e-02, -2.6387e-02],\n",
       "          [ 7.6149e-02,  6.6245e-02,  8.3289e-02,  ...,  9.1794e-02,\n",
       "            3.6510e-02,  2.7474e-02],\n",
       "          ...,\n",
       "          [ 5.4448e-02,  2.1650e-02,  1.7575e-02,  ...,  8.4479e-02,\n",
       "            7.9382e-02, -7.5367e-02],\n",
       "          [ 1.5176e-01,  4.3194e-02, -1.1852e-01,  ...,  1.9659e-02,\n",
       "           -3.4664e-02, -7.4107e-02],\n",
       "          [ 2.2838e-01,  2.2351e-01,  1.4506e-01,  ..., -7.4739e-02,\n",
       "           -8.7504e-02, -3.2333e-02]]],\n",
       "\n",
       "\n",
       "        [[[ 5.1750e-02,  2.6442e-01,  6.0368e-02,  ..., -4.6615e-02,\n",
       "            3.3400e-02, -1.1250e-02],\n",
       "          [ 2.0040e-02,  2.5643e-01,  1.4455e-01,  ..., -5.3292e-02,\n",
       "            6.6688e-03, -1.3233e-02],\n",
       "          [-8.9317e-02,  1.0850e-01, -2.0595e-01,  ..., -1.5310e-01,\n",
       "            1.0160e-01, -9.6439e-02],\n",
       "          ...,\n",
       "          [ 1.7030e-01, -1.6867e-01,  1.4130e-01,  ...,  3.9769e-02,\n",
       "           -7.7994e-02,  6.7084e-02],\n",
       "          [ 1.9244e-01, -6.9699e-02,  2.3137e-01,  ...,  7.1487e-02,\n",
       "           -6.2017e-02,  8.1133e-02],\n",
       "          [ 1.7550e-01,  8.9894e-03,  1.2725e-01,  ...,  1.3319e-01,\n",
       "           -4.9839e-03,  5.9231e-02]],\n",
       "\n",
       "         [[ 7.6791e-02, -4.0141e-02,  3.9680e-02,  ..., -5.3947e-02,\n",
       "           -4.7624e-02, -7.6025e-02],\n",
       "          [-1.7036e-01, -9.7330e-02,  1.8480e-01,  ...,  1.6252e-01,\n",
       "            1.3297e-01,  7.6005e-02],\n",
       "          [-1.2091e-01, -1.1018e-01,  1.2892e-01,  ..., -2.6416e-02,\n",
       "           -8.5193e-02, -1.1004e-01],\n",
       "          ...,\n",
       "          [-2.9223e-01, -2.6677e-01, -2.1112e-01,  ...,  7.1550e-02,\n",
       "            4.3092e-02, -3.5371e-02],\n",
       "          [-1.1815e-01, -8.6354e-03, -1.5509e-01,  ...,  3.0324e-02,\n",
       "            6.5890e-02,  8.1264e-02],\n",
       "          [-2.0876e-01, -1.2579e-01, -1.7100e-01,  ..., -1.9498e-02,\n",
       "           -3.6274e-02, -6.7422e-02]]],\n",
       "\n",
       "\n",
       "        [[[-7.1395e-02, -3.0957e-02,  5.1657e-02,  ..., -8.9491e-03,\n",
       "            1.0342e-01,  3.8352e-02],\n",
       "          [-4.1331e-02, -1.2326e-02,  1.7383e-02,  ..., -9.4396e-03,\n",
       "            8.3604e-02,  3.6471e-02],\n",
       "          [-4.6961e-02,  3.7391e-03,  1.2247e-02,  ..., -3.1997e-02,\n",
       "            7.8448e-02,  5.6447e-02],\n",
       "          ...,\n",
       "          [ 8.4147e-03, -2.9428e-02, -3.1960e-02,  ..., -2.2914e-01,\n",
       "            3.9106e-01,  2.5488e-01],\n",
       "          [ 8.0672e-03, -4.3908e-02, -3.0978e-02,  ..., -1.2209e-01,\n",
       "            2.3155e-01,  1.6369e-01],\n",
       "          [-1.2117e-03, -2.3264e-02,  5.8892e-02,  ..., -2.7241e-02,\n",
       "            9.8048e-02,  1.8590e-01]],\n",
       "\n",
       "         [[-2.8643e-02,  1.8432e-02, -9.2432e-04,  ..., -1.4441e-02,\n",
       "           -3.4310e-02, -4.8399e-02],\n",
       "          [-5.6262e-02, -5.2328e-02, -5.1999e-02,  ..., -8.4604e-02,\n",
       "           -1.0758e-01, -7.9534e-02],\n",
       "          [ 2.4297e-02,  2.6946e-02,  2.4330e-02,  ..., -5.8342e-02,\n",
       "           -6.9891e-02, -3.2727e-02],\n",
       "          ...,\n",
       "          [-2.2074e-02, -5.1297e-03, -1.4596e-02,  ...,  4.4880e-01,\n",
       "            4.3322e-01,  2.8782e-01],\n",
       "          [-9.6364e-03, -4.1951e-02, -3.9071e-03,  ...,  3.3560e-01,\n",
       "            3.0806e-01,  1.1037e-01],\n",
       "          [ 1.4859e-02, -3.5065e-03,  3.5697e-02,  ...,  1.2131e-01,\n",
       "            1.9447e-01,  2.6521e-01]]]], device='cuda:0')"
      ]
     },
     "execution_count": 14,
     "metadata": {},
     "output_type": "execute_result"
    }
   ],
   "source": [
    "checkpoint['state_dict']['features.module.0.weight'].data"
   ]
  },
  {
   "cell_type": "code",
   "execution_count": 15,
   "metadata": {},
   "outputs": [],
   "source": [
    "alex.features[0].weight.data = checkpoint['state_dict']['features.module.0.weight'].data"
   ]
  },
  {
   "cell_type": "code",
   "execution_count": 9,
   "metadata": {},
   "outputs": [
    {
     "name": "stdout",
     "output_type": "stream",
     "text": [
      "torch.Size([96, 2, 11, 11])\n"
     ]
    }
   ],
   "source": [
    "print(checkpoint['state_dict']['features.module.0.weight'].shape)"
   ]
  },
  {
   "cell_type": "code",
   "execution_count": 55,
   "metadata": {},
   "outputs": [
    {
     "data": {
      "text/plain": [
       "['features.module.0.weight',\n",
       " 'features.module.0.bias',\n",
       " 'features.module.1.weight',\n",
       " 'features.module.1.bias',\n",
       " 'features.module.1.running_mean',\n",
       " 'features.module.1.running_var',\n",
       " 'features.module.1.num_batches_tracked',\n",
       " 'features.module.4.weight',\n",
       " 'features.module.4.bias',\n",
       " 'features.module.5.weight',\n",
       " 'features.module.5.bias',\n",
       " 'features.module.5.running_mean',\n",
       " 'features.module.5.running_var',\n",
       " 'features.module.5.num_batches_tracked',\n",
       " 'features.module.8.weight',\n",
       " 'features.module.8.bias',\n",
       " 'features.module.9.weight',\n",
       " 'features.module.9.bias',\n",
       " 'features.module.9.running_mean',\n",
       " 'features.module.9.running_var',\n",
       " 'features.module.9.num_batches_tracked',\n",
       " 'features.module.11.weight',\n",
       " 'features.module.11.bias',\n",
       " 'features.module.12.weight',\n",
       " 'features.module.12.bias',\n",
       " 'features.module.12.running_mean',\n",
       " 'features.module.12.running_var',\n",
       " 'features.module.12.num_batches_tracked',\n",
       " 'features.module.14.weight',\n",
       " 'features.module.14.bias',\n",
       " 'features.module.15.weight',\n",
       " 'features.module.15.bias',\n",
       " 'features.module.15.running_mean',\n",
       " 'features.module.15.running_var',\n",
       " 'features.module.15.num_batches_tracked',\n",
       " 'classifier.1.weight',\n",
       " 'classifier.1.bias',\n",
       " 'classifier.4.weight',\n",
       " 'classifier.4.bias',\n",
       " 'sobel.0.weight',\n",
       " 'sobel.0.bias',\n",
       " 'sobel.1.weight',\n",
       " 'sobel.1.bias']"
      ]
     },
     "execution_count": 55,
     "metadata": {},
     "output_type": "execute_result"
    }
   ],
   "source": [
    "checkpoint_weights = list(checkpoint['state_dict'].keys())\n",
    "checkpoint_weights"
   ]
  },
  {
   "cell_type": "code",
   "execution_count": 53,
   "metadata": {},
   "outputs": [
    {
     "data": {
      "text/plain": [
       "Conv2d(2, 96, kernel_size=(11, 11), stride=(4, 4), padding=(2, 2))"
      ]
     },
     "execution_count": 53,
     "metadata": {},
     "output_type": "execute_result"
    }
   ],
   "source": [
    "alex.features[0]"
   ]
  },
  {
   "cell_type": "code",
   "execution_count": 47,
   "metadata": {
    "collapsed": true
   },
   "outputs": [
    {
     "ename": "RuntimeError",
     "evalue": "Error(s) in loading state_dict for AlexNet:\n\tMissing key(s) in state_dict: \"features.0.weight\", \"features.0.bias\", \"features.1.weight\", \"features.1.bias\", \"features.1.running_mean\", \"features.1.running_var\", \"features.4.weight\", \"features.4.bias\", \"features.5.weight\", \"features.5.bias\", \"features.5.running_mean\", \"features.5.running_var\", \"features.8.weight\", \"features.8.bias\", \"features.9.weight\", \"features.9.bias\", \"features.9.running_mean\", \"features.9.running_var\", \"features.11.weight\", \"features.11.bias\", \"features.12.weight\", \"features.12.bias\", \"features.12.running_mean\", \"features.12.running_var\", \"features.14.weight\", \"features.14.bias\", \"features.15.weight\", \"features.15.bias\", \"features.15.running_mean\", \"features.15.running_var\". \n\tUnexpected key(s) in state_dict: \"features.module.0.weight\", \"features.module.0.bias\", \"features.module.1.weight\", \"features.module.1.bias\", \"features.module.1.running_mean\", \"features.module.1.running_var\", \"features.module.1.num_batches_tracked\", \"features.module.4.weight\", \"features.module.4.bias\", \"features.module.5.weight\", \"features.module.5.bias\", \"features.module.5.running_mean\", \"features.module.5.running_var\", \"features.module.5.num_batches_tracked\", \"features.module.8.weight\", \"features.module.8.bias\", \"features.module.9.weight\", \"features.module.9.bias\", \"features.module.9.running_mean\", \"features.module.9.running_var\", \"features.module.9.num_batches_tracked\", \"features.module.11.weight\", \"features.module.11.bias\", \"features.module.12.weight\", \"features.module.12.bias\", \"features.module.12.running_mean\", \"features.module.12.running_var\", \"features.module.12.num_batches_tracked\", \"features.module.14.weight\", \"features.module.14.bias\", \"features.module.15.weight\", \"features.module.15.bias\", \"features.module.15.running_mean\", \"features.module.15.running_var\", \"features.module.15.num_batches_tracked\". ",
     "output_type": "error",
     "traceback": [
      "\u001b[0;31m---------------------------------------------------------------------------\u001b[0m",
      "\u001b[0;31mRuntimeError\u001b[0m                              Traceback (most recent call last)",
      "Input \u001b[0;32mIn [47]\u001b[0m, in \u001b[0;36m<module>\u001b[0;34m\u001b[0m\n\u001b[0;32m----> 1\u001b[0m \u001b[43malex\u001b[49m\u001b[38;5;241;43m.\u001b[39;49m\u001b[43mload_state_dict\u001b[49m\u001b[43m(\u001b[49m\u001b[43mcheckpoint\u001b[49m\u001b[43m[\u001b[49m\u001b[38;5;124;43m'\u001b[39;49m\u001b[38;5;124;43mstate_dict\u001b[39;49m\u001b[38;5;124;43m'\u001b[39;49m\u001b[43m]\u001b[49m\u001b[43m)\u001b[49m\n",
      "File \u001b[0;32m~/anaconda3/envs/torch_detr/lib/python3.8/site-packages/torch/nn/modules/module.py:1406\u001b[0m, in \u001b[0;36mModule.load_state_dict\u001b[0;34m(self, state_dict, strict)\u001b[0m\n\u001b[1;32m   1401\u001b[0m         error_msgs\u001b[38;5;241m.\u001b[39minsert(\n\u001b[1;32m   1402\u001b[0m             \u001b[38;5;241m0\u001b[39m, \u001b[38;5;124m'\u001b[39m\u001b[38;5;124mMissing key(s) in state_dict: \u001b[39m\u001b[38;5;132;01m{}\u001b[39;00m\u001b[38;5;124m. \u001b[39m\u001b[38;5;124m'\u001b[39m\u001b[38;5;241m.\u001b[39mformat(\n\u001b[1;32m   1403\u001b[0m                 \u001b[38;5;124m'\u001b[39m\u001b[38;5;124m, \u001b[39m\u001b[38;5;124m'\u001b[39m\u001b[38;5;241m.\u001b[39mjoin(\u001b[38;5;124m'\u001b[39m\u001b[38;5;124m\"\u001b[39m\u001b[38;5;132;01m{}\u001b[39;00m\u001b[38;5;124m\"\u001b[39m\u001b[38;5;124m'\u001b[39m\u001b[38;5;241m.\u001b[39mformat(k) \u001b[38;5;28;01mfor\u001b[39;00m k \u001b[38;5;129;01min\u001b[39;00m missing_keys)))\n\u001b[1;32m   1405\u001b[0m \u001b[38;5;28;01mif\u001b[39;00m \u001b[38;5;28mlen\u001b[39m(error_msgs) \u001b[38;5;241m>\u001b[39m \u001b[38;5;241m0\u001b[39m:\n\u001b[0;32m-> 1406\u001b[0m     \u001b[38;5;28;01mraise\u001b[39;00m \u001b[38;5;167;01mRuntimeError\u001b[39;00m(\u001b[38;5;124m'\u001b[39m\u001b[38;5;124mError(s) in loading state_dict for \u001b[39m\u001b[38;5;132;01m{}\u001b[39;00m\u001b[38;5;124m:\u001b[39m\u001b[38;5;130;01m\\n\u001b[39;00m\u001b[38;5;130;01m\\t\u001b[39;00m\u001b[38;5;132;01m{}\u001b[39;00m\u001b[38;5;124m'\u001b[39m\u001b[38;5;241m.\u001b[39mformat(\n\u001b[1;32m   1407\u001b[0m                        \u001b[38;5;28mself\u001b[39m\u001b[38;5;241m.\u001b[39m\u001b[38;5;18m__class__\u001b[39m\u001b[38;5;241m.\u001b[39m\u001b[38;5;18m__name__\u001b[39m, \u001b[38;5;124m\"\u001b[39m\u001b[38;5;130;01m\\n\u001b[39;00m\u001b[38;5;130;01m\\t\u001b[39;00m\u001b[38;5;124m\"\u001b[39m\u001b[38;5;241m.\u001b[39mjoin(error_msgs)))\n\u001b[1;32m   1408\u001b[0m \u001b[38;5;28;01mreturn\u001b[39;00m _IncompatibleKeys(missing_keys, unexpected_keys)\n",
      "\u001b[0;31mRuntimeError\u001b[0m: Error(s) in loading state_dict for AlexNet:\n\tMissing key(s) in state_dict: \"features.0.weight\", \"features.0.bias\", \"features.1.weight\", \"features.1.bias\", \"features.1.running_mean\", \"features.1.running_var\", \"features.4.weight\", \"features.4.bias\", \"features.5.weight\", \"features.5.bias\", \"features.5.running_mean\", \"features.5.running_var\", \"features.8.weight\", \"features.8.bias\", \"features.9.weight\", \"features.9.bias\", \"features.9.running_mean\", \"features.9.running_var\", \"features.11.weight\", \"features.11.bias\", \"features.12.weight\", \"features.12.bias\", \"features.12.running_mean\", \"features.12.running_var\", \"features.14.weight\", \"features.14.bias\", \"features.15.weight\", \"features.15.bias\", \"features.15.running_mean\", \"features.15.running_var\". \n\tUnexpected key(s) in state_dict: \"features.module.0.weight\", \"features.module.0.bias\", \"features.module.1.weight\", \"features.module.1.bias\", \"features.module.1.running_mean\", \"features.module.1.running_var\", \"features.module.1.num_batches_tracked\", \"features.module.4.weight\", \"features.module.4.bias\", \"features.module.5.weight\", \"features.module.5.bias\", \"features.module.5.running_mean\", \"features.module.5.running_var\", \"features.module.5.num_batches_tracked\", \"features.module.8.weight\", \"features.module.8.bias\", \"features.module.9.weight\", \"features.module.9.bias\", \"features.module.9.running_mean\", \"features.module.9.running_var\", \"features.module.9.num_batches_tracked\", \"features.module.11.weight\", \"features.module.11.bias\", \"features.module.12.weight\", \"features.module.12.bias\", \"features.module.12.running_mean\", \"features.module.12.running_var\", \"features.module.12.num_batches_tracked\", \"features.module.14.weight\", \"features.module.14.bias\", \"features.module.15.weight\", \"features.module.15.bias\", \"features.module.15.running_mean\", \"features.module.15.running_var\", \"features.module.15.num_batches_tracked\". "
     ]
    }
   ],
   "source": [
    "alex.load_state_dict(checkpoint['state_dict'])"
   ]
  },
  {
   "cell_type": "code",
   "execution_count": 8,
   "metadata": {
    "id": "WT_VW8v8CR7V"
   },
   "outputs": [],
   "source": [
    "def plot_filters_single_channel_big(t):\n",
    "    \n",
    "    #setting the rows and columns\n",
    "    nrows = t.shape[0]*t.shape[2]\n",
    "    ncols = t.shape[1]*t.shape[3]\n",
    "    \n",
    "    \n",
    "    npimg = np.array(t.numpy(), np.float32)\n",
    "    npimg = npimg.transpose((0, 2, 1, 3))\n",
    "    npimg = npimg.ravel().reshape(nrows, ncols)\n",
    "    \n",
    "    npimg = npimg.T\n",
    "    \n",
    "    fig, ax = plt.subplots(figsize=(ncols/10, nrows/200))    \n",
    "    imgplot = sns.heatmap(npimg, xticklabels=False, yticklabels=False, cmap='gray', ax=ax, cbar=False)"
   ]
  },
  {
   "cell_type": "code",
   "execution_count": 9,
   "metadata": {
    "id": "6BYCjgBYwyAQ"
   },
   "outputs": [],
   "source": [
    "def plot_filters_single_channel(t):\n",
    "    \n",
    "    #kernels depth * number of kernels\n",
    "    nplots = t.shape[0]*t.shape[1]\n",
    "    ncols = 12\n",
    "    \n",
    "    nrows = 1 + nplots//ncols\n",
    "    #convert tensor to numpy image\n",
    "    npimg = np.array(t.numpy(), np.float32)\n",
    "    \n",
    "    count = 0\n",
    "    fig = plt.figure(figsize=(ncols, nrows))\n",
    "    \n",
    "    #looping through all the kernels in each channel\n",
    "    for i in range(t.shape[0]):\n",
    "        for j in range(t.shape[1]):\n",
    "            count += 1\n",
    "            ax1 = fig.add_subplot(nrows, ncols, count)\n",
    "            npimg = np.array(t[i, j].numpy(), np.float32)\n",
    "            npimg = (npimg - np.mean(npimg)) / np.std(npimg)\n",
    "            npimg = np.minimum(1, np.maximum(0, (npimg + 0.5)))\n",
    "            ax1.imshow(npimg)\n",
    "            ax1.set_title(str(i) + ',' + str(j))\n",
    "            ax1.axis('off')\n",
    "            ax1.set_xticklabels([])\n",
    "            ax1.set_yticklabels([])\n",
    "   \n",
    "    plt.tight_layout()\n",
    "    plt.show()"
   ]
  },
  {
   "cell_type": "code",
   "execution_count": 10,
   "metadata": {
    "id": "qv-nJbDFuNuN"
   },
   "outputs": [],
   "source": [
    "def plot_filters_multi_channel(t):\n",
    "    \n",
    "    #get the number of kernals\n",
    "    num_kernels = t.shape[0]    \n",
    "    \n",
    "    #define number of columns for subplots\n",
    "    num_cols = 12\n",
    "    #rows = num of kernels\n",
    "    num_rows = num_kernels\n",
    "    \n",
    "    #set the figure size\n",
    "    fig = plt.figure(figsize=(num_cols,num_rows))\n",
    "    \n",
    "    #looping through all the kernels\n",
    "    for i in range(t.shape[0]):\n",
    "        ax1 = fig.add_subplot(num_rows,num_cols,i+1)\n",
    "        \n",
    "        #for each kernel, we convert the tensor to numpy \n",
    "        npimg = np.array(t[i].numpy(), np.float32)\n",
    "        #standardize the numpy image\n",
    "        npimg = (npimg - np.mean(npimg)) / np.std(npimg)\n",
    "        npimg = np.minimum(1, np.maximum(0, (npimg + 0.5)))\n",
    "        npimg = npimg.transpose((1, 2, 0))\n",
    "        ax1.imshow(npimg)\n",
    "        ax1.axis('off')\n",
    "        ax1.set_title(str(i))\n",
    "        ax1.set_xticklabels([])\n",
    "        ax1.set_yticklabels([])\n",
    "        \n",
    "    plt.savefig('myimage.png', dpi=100)    \n",
    "    plt.tight_layout()\n",
    "    plt.show()"
   ]
  },
  {
   "cell_type": "code",
   "execution_count": 11,
   "metadata": {
    "id": "cWmfCalUvzbS"
   },
   "outputs": [],
   "source": [
    "def plot_weights(model, layer_num, single_channel = True, collated = False):\n",
    "  \n",
    "  #extracting the model features at the particular layer number\n",
    "  layer = model.features[layer_num]\n",
    "  \n",
    "  #checking whether the layer is convolution layer or not \n",
    "  if isinstance(layer, nn.Conv2d):\n",
    "    #getting the weight tensor data\n",
    "    weight_tensor = model.features[layer_num].weight.data\n",
    "    \n",
    "    if single_channel:\n",
    "      if collated:\n",
    "        plot_filters_single_channel_big(weight_tensor)\n",
    "      else:\n",
    "        plot_filters_single_channel(weight_tensor)\n",
    "        \n",
    "    else:\n",
    "      if weight_tensor.shape[1] == 3:\n",
    "        plot_filters_multi_channel(weight_tensor)\n",
    "      else:\n",
    "        print(\"Can only plot weights with three channels with single channel = False\")\n",
    "        \n",
    "  else:\n",
    "    print(\"Can only visualize layers which are convolutional\")"
   ]
  },
  {
   "cell_type": "code",
   "execution_count": 12,
   "metadata": {
    "colab": {
     "base_uri": "https://localhost:8080/",
     "height": 448
    },
    "id": "oY9qbCOEP3Mn",
    "outputId": "33018950-b45d-4061-cb88-ed47f843b8ea"
   },
   "outputs": [
    {
     "ename": "AttributeError",
     "evalue": "'dict' object has no attribute 'features'",
     "output_type": "error",
     "traceback": [
      "\u001b[0;31m---------------------------------------------------------------------------\u001b[0m",
      "\u001b[0;31mAttributeError\u001b[0m                            Traceback (most recent call last)",
      "Input \u001b[0;32mIn [12]\u001b[0m, in \u001b[0;36m<module>\u001b[0;34m\u001b[0m\n\u001b[1;32m      1\u001b[0m \u001b[38;5;66;03m#visualize weights for alexnet - first conv layer\u001b[39;00m\n\u001b[0;32m----> 3\u001b[0m \u001b[43mplot_weights\u001b[49m\u001b[43m(\u001b[49m\u001b[43malexnet\u001b[49m\u001b[43m,\u001b[49m\u001b[43m \u001b[49m\u001b[38;5;241;43m0\u001b[39;49m\u001b[43m,\u001b[49m\u001b[43m \u001b[49m\u001b[43msingle_channel\u001b[49m\u001b[43m \u001b[49m\u001b[38;5;241;43m=\u001b[39;49m\u001b[43m \u001b[49m\u001b[38;5;28;43;01mFalse\u001b[39;49;00m\u001b[43m)\u001b[49m\n",
      "Input \u001b[0;32mIn [11]\u001b[0m, in \u001b[0;36mplot_weights\u001b[0;34m(model, layer_num, single_channel, collated)\u001b[0m\n\u001b[1;32m      1\u001b[0m \u001b[38;5;28;01mdef\u001b[39;00m \u001b[38;5;21mplot_weights\u001b[39m(model, layer_num, single_channel \u001b[38;5;241m=\u001b[39m \u001b[38;5;28;01mTrue\u001b[39;00m, collated \u001b[38;5;241m=\u001b[39m \u001b[38;5;28;01mFalse\u001b[39;00m):\n\u001b[1;32m      2\u001b[0m   \n\u001b[1;32m      3\u001b[0m   \u001b[38;5;66;03m#extracting the model features at the particular layer number\u001b[39;00m\n\u001b[0;32m----> 4\u001b[0m   layer \u001b[38;5;241m=\u001b[39m \u001b[43mmodel\u001b[49m\u001b[38;5;241;43m.\u001b[39;49m\u001b[43mfeatures\u001b[49m[layer_num]\n\u001b[1;32m      6\u001b[0m   \u001b[38;5;66;03m#checking whether the layer is convolution layer or not \u001b[39;00m\n\u001b[1;32m      7\u001b[0m   \u001b[38;5;28;01mif\u001b[39;00m \u001b[38;5;28misinstance\u001b[39m(layer, nn\u001b[38;5;241m.\u001b[39mConv2d):\n\u001b[1;32m      8\u001b[0m     \u001b[38;5;66;03m#getting the weight tensor data\u001b[39;00m\n",
      "\u001b[0;31mAttributeError\u001b[0m: 'dict' object has no attribute 'features'"
     ]
    }
   ],
   "source": [
    "#visualize weights for alexnet - first conv layer\n",
    "\n",
    "plot_weights(alexnet, 0, single_channel = False)"
   ]
  },
  {
   "cell_type": "code",
   "execution_count": null,
   "metadata": {
    "colab": {
     "base_uri": "https://localhost:8080/",
     "height": 1162
    },
    "id": "uQI9jHcP6xfP",
    "outputId": "692d873b-bfda-4a5e-f96c-56ef533707dd"
   },
   "outputs": [
    {
     "data": {
      "image/png": "[encoded data removed]",
      "text/plain": [
       "<Figure size 864x1224 with 192 Axes>"
      ]
     },
     "metadata": {},
     "output_type": "display_data"
    }
   ],
   "source": [
    "#plotting single channel images\n",
    "\n",
    "plot_weights(alexnet, 0, single_channel = True)"
   ]
  },
  {
   "cell_type": "code",
   "execution_count": null,
   "metadata": {
    "id": "KfLwcbTOVVgv"
   },
   "outputs": [],
   "source": [
    "#plot for 3rd layer -> 2nd conv layer\n",
    "plot_weights(alexnet, 3, single_channel = True)"
   ]
  },
  {
   "cell_type": "code",
   "execution_count": null,
   "metadata": {
    "id": "2aXqciCmP5ch"
   },
   "outputs": [],
   "source": [
    " plot_weights(alexnet, 0, single_channel = True, collated = True)"
   ]
  },
  {
   "cell_type": "code",
   "execution_count": null,
   "metadata": {
    "id": "e2co0L_wUcgq"
   },
   "outputs": [],
   "source": [
    "plot_weights(alexnet, 3, single_channel = True, collated = True)"
   ]
  },
  {
   "cell_type": "code",
   "execution_count": null,
   "metadata": {
    "id": "s78jt1lyUrPE"
   },
   "outputs": [],
   "source": [
    "plot_weights(alexnet, 6, single_channel = True, collated = True)"
   ]
  },
  {
   "cell_type": "code",
   "execution_count": null,
   "metadata": {
    "id": "1D0hfAosRT5S"
   },
   "outputs": [],
   "source": [
    "#for vgg16\n",
    "\n",
    "plot_weights(model, 0, single_channel = True, collated = True)"
   ]
  },
  {
   "cell_type": "code",
   "execution_count": null,
   "metadata": {
    "id": "SwPM0-idRn3Q"
   },
   "outputs": [],
   "source": [
    "plot_weights(model, 2, single_channel = True, collated = True)"
   ]
  },
  {
   "cell_type": "code",
   "execution_count": null,
   "metadata": {
    "id": "16xv9OJ4R-MQ"
   },
   "outputs": [],
   "source": [
    "plot_weights(model, 5, single_channel = True, collated = True)"
   ]
  },
  {
   "cell_type": "code",
   "execution_count": null,
   "metadata": {
    "id": "NSor2Z4r2nHA"
   },
   "outputs": [],
   "source": [
    "plot_weights(model, 0, single_channel = False, collated = False)"
   ]
  },
  {
   "cell_type": "code",
   "execution_count": null,
   "metadata": {
    "id": "_bD1sDup2sfc"
   },
   "outputs": [],
   "source": []
  },
  {
   "cell_type": "code",
   "execution_count": null,
   "metadata": {
    "id": "r0OsVLhWHMrd"
   },
   "outputs": [],
   "source": []
  }
 ],
 "metadata": {
  "accelerator": "GPU",
  "colab": {
   "collapsed_sections": [],
   "name": "CNNVisualisation.ipynb",
   "provenance": []
  },
  "kernelspec": {
   "display_name": "torch_detr",
   "language": "python",
   "name": "torch_detr"
  },
  "language_info": {
   "codemirror_mode": {
    "name": "ipython",
    "version": 3
   },
   "file_extension": ".py",
   "mimetype": "text/x-python",
   "name": "python",
   "nbconvert_exporter": "python",
   "pygments_lexer": "ipython3",
   "version": "3.8.12"
  },
  "widgets": {
   "application/vnd.jupyter.widget-state+json": {
    "055637a3d8024711be0abd8de87254d5": {
     "model_module": "@jupyter-widgets/controls",
     "model_module_version": "1.5.0",
     "model_name": "ProgressStyleModel",
     "state": {
      "_model_module": "@jupyter-widgets/controls",
      "_model_module_version": "1.5.0",
      "_model_name": "ProgressStyleModel",
      "_view_count": null,
      "_view_module": "@jupyter-widgets/base",
      "_view_module_version": "1.2.0",
      "_view_name": "StyleView",
      "bar_color": null,
      "description_width": ""
     }
    },
    "5d60180938094f5195f263d5e0e389df": {
     "model_module": "@jupyter-widgets/controls",
     "model_module_version": "1.5.0",
     "model_name": "HBoxModel",
     "state": {
      "_dom_classes": [],
      "_model_module": "@jupyter-widgets/controls",
      "_model_module_version": "1.5.0",
      "_model_name": "HBoxModel",
      "_view_count": null,
      "_view_module": "@jupyter-widgets/controls",
      "_view_module_version": "1.5.0",
      "_view_name": "HBoxView",
      "box_style": "",
      "children": [
       "IPY_MODEL_a59bf2ac39da46bc9b8a83c50d863738",
       "IPY_MODEL_bd1e469e32f0403f9b30680260a3760b",
       "IPY_MODEL_b4fa749ea0c24b14b6aa1ec96584a937"
      ],
      "layout": "IPY_MODEL_bb801f329a6545dc8921e4d02dbcc00a"
     }
    },
    "7945de978b6742ee9ecfc7f85a6e1fa7": {
     "model_module": "@jupyter-widgets/controls",
     "model_module_version": "1.5.0",
     "model_name": "DescriptionStyleModel",
     "state": {
      "_model_module": "@jupyter-widgets/controls",
      "_model_module_version": "1.5.0",
      "_model_name": "DescriptionStyleModel",
      "_view_count": null,
      "_view_module": "@jupyter-widgets/base",
      "_view_module_version": "1.2.0",
      "_view_name": "StyleView",
      "description_width": ""
     }
    },
    "7b8ea4a6a6e5463a8b4dcdd8804225ab": {
     "model_module": "@jupyter-widgets/controls",
     "model_module_version": "1.5.0",
     "model_name": "DescriptionStyleModel",
     "state": {
      "_model_module": "@jupyter-widgets/controls",
      "_model_module_version": "1.5.0",
      "_model_name": "DescriptionStyleModel",
      "_view_count": null,
      "_view_module": "@jupyter-widgets/base",
      "_view_module_version": "1.2.0",
      "_view_name": "StyleView",
      "description_width": ""
     }
    },
    "7e080380005648358dbd073e3f08b404": {
     "model_module": "@jupyter-widgets/base",
     "model_module_version": "1.2.0",
     "model_name": "LayoutModel",
     "state": {
      "_model_module": "@jupyter-widgets/base",
      "_model_module_version": "1.2.0",
      "_model_name": "LayoutModel",
      "_view_count": null,
      "_view_module": "@jupyter-widgets/base",
      "_view_module_version": "1.2.0",
      "_view_name": "LayoutView",
      "align_content": null,
      "align_items": null,
      "align_self": null,
      "border": null,
      "bottom": null,
      "display": null,
      "flex": null,
      "flex_flow": null,
      "grid_area": null,
      "grid_auto_columns": null,
      "grid_auto_flow": null,
      "grid_auto_rows": null,
      "grid_column": null,
      "grid_gap": null,
      "grid_row": null,
      "grid_template_areas": null,
      "grid_template_columns": null,
      "grid_template_rows": null,
      "height": null,
      "justify_content": null,
      "justify_items": null,
      "left": null,
      "margin": null,
      "max_height": null,
      "max_width": null,
      "min_height": null,
      "min_width": null,
      "object_fit": null,
      "object_position": null,
      "order": null,
      "overflow": null,
      "overflow_x": null,
      "overflow_y": null,
      "padding": null,
      "right": null,
      "top": null,
      "visibility": null,
      "width": null
     }
    },
    "a59bf2ac39da46bc9b8a83c50d863738": {
     "model_module": "@jupyter-widgets/controls",
     "model_module_version": "1.5.0",
     "model_name": "HTMLModel",
     "state": {
      "_dom_classes": [],
      "_model_module": "@jupyter-widgets/controls",
      "_model_module_version": "1.5.0",
      "_model_name": "HTMLModel",
      "_view_count": null,
      "_view_module": "@jupyter-widgets/controls",
      "_view_module_version": "1.5.0",
      "_view_name": "HTMLView",
      "description": "",
      "description_tooltip": null,
      "layout": "IPY_MODEL_7e080380005648358dbd073e3f08b404",
      "placeholder": "​",
      "style": "IPY_MODEL_7b8ea4a6a6e5463a8b4dcdd8804225ab",
      "value": "100%"
     }
    },
    "b4fa749ea0c24b14b6aa1ec96584a937": {
     "model_module": "@jupyter-widgets/controls",
     "model_module_version": "1.5.0",
     "model_name": "HTMLModel",
     "state": {
      "_dom_classes": [],
      "_model_module": "@jupyter-widgets/controls",
      "_model_module_version": "1.5.0",
      "_model_name": "HTMLModel",
      "_view_count": null,
      "_view_module": "@jupyter-widgets/controls",
      "_view_module_version": "1.5.0",
      "_view_name": "HTMLView",
      "description": "",
      "description_tooltip": null,
      "layout": "IPY_MODEL_ccaae440ea824d99aebe938b140525ba",
      "placeholder": "​",
      "style": "IPY_MODEL_7945de978b6742ee9ecfc7f85a6e1fa7",
      "value": " 233M/233M [00:01&lt;00:00, 142MB/s]"
     }
    },
    "bb801f329a6545dc8921e4d02dbcc00a": {
     "model_module": "@jupyter-widgets/base",
     "model_module_version": "1.2.0",
     "model_name": "LayoutModel",
     "state": {
      "_model_module": "@jupyter-widgets/base",
      "_model_module_version": "1.2.0",
      "_model_name": "LayoutModel",
      "_view_count": null,
      "_view_module": "@jupyter-widgets/base",
      "_view_module_version": "1.2.0",
      "_view_name": "LayoutView",
      "align_content": null,
      "align_items": null,
      "align_self": null,
      "border": null,
      "bottom": null,
      "display": null,
      "flex": null,
      "flex_flow": null,
      "grid_area": null,
      "grid_auto_columns": null,
      "grid_auto_flow": null,
      "grid_auto_rows": null,
      "grid_column": null,
      "grid_gap": null,
      "grid_row": null,
      "grid_template_areas": null,
      "grid_template_columns": null,
      "grid_template_rows": null,
      "height": null,
      "justify_content": null,
      "justify_items": null,
      "left": null,
      "margin": null,
      "max_height": null,
      "max_width": null,
      "min_height": null,
      "min_width": null,
      "object_fit": null,
      "object_position": null,
      "order": null,
      "overflow": null,
      "overflow_x": null,
      "overflow_y": null,
      "padding": null,
      "right": null,
      "top": null,
      "visibility": null,
      "width": null
     }
    },
    "bd1e469e32f0403f9b30680260a3760b": {
     "model_module": "@jupyter-widgets/controls",
     "model_module_version": "1.5.0",
     "model_name": "FloatProgressModel",
     "state": {
      "_dom_classes": [],
      "_model_module": "@jupyter-widgets/controls",
      "_model_module_version": "1.5.0",
      "_model_name": "FloatProgressModel",
      "_view_count": null,
      "_view_module": "@jupyter-widgets/controls",
      "_view_module_version": "1.5.0",
      "_view_name": "ProgressView",
      "bar_style": "success",
      "description": "",
      "description_tooltip": null,
      "layout": "IPY_MODEL_e4f68fafd916438ab3080f840690c975",
      "max": 244408911,
      "min": 0,
      "orientation": "horizontal",
      "style": "IPY_MODEL_055637a3d8024711be0abd8de87254d5",
      "value": 244408911
     }
    },
    "ccaae440ea824d99aebe938b140525ba": {
     "model_module": "@jupyter-widgets/base",
     "model_module_version": "1.2.0",
     "model_name": "LayoutModel",
     "state": {
      "_model_module": "@jupyter-widgets/base",
      "_model_module_version": "1.2.0",
      "_model_name": "LayoutModel",
      "_view_count": null,
      "_view_module": "@jupyter-widgets/base",
      "_view_module_version": "1.2.0",
      "_view_name": "LayoutView",
      "align_content": null,
      "align_items": null,
      "align_self": null,
      "border": null,
      "bottom": null,
      "display": null,
      "flex": null,
      "flex_flow": null,
      "grid_area": null,
      "grid_auto_columns": null,
      "grid_auto_flow": null,
      "grid_auto_rows": null,
      "grid_column": null,
      "grid_gap": null,
      "grid_row": null,
      "grid_template_areas": null,
      "grid_template_columns": null,
      "grid_template_rows": null,
      "height": null,
      "justify_content": null,
      "justify_items": null,
      "left": null,
      "margin": null,
      "max_height": null,
      "max_width": null,
      "min_height": null,
      "min_width": null,
      "object_fit": null,
      "object_position": null,
      "order": null,
      "overflow": null,
      "overflow_x": null,
      "overflow_y": null,
      "padding": null,
      "right": null,
      "top": null,
      "visibility": null,
      "width": null
     }
    },
    "e4f68fafd916438ab3080f840690c975": {
     "model_module": "@jupyter-widgets/base",
     "model_module_version": "1.2.0",
     "model_name": "LayoutModel",
     "state": {
      "_model_module": "@jupyter-widgets/base",
      "_model_module_version": "1.2.0",
      "_model_name": "LayoutModel",
      "_view_count": null,
      "_view_module": "@jupyter-widgets/base",
      "_view_module_version": "1.2.0",
      "_view_name": "LayoutView",
      "align_content": null,
      "align_items": null,
      "align_self": null,
      "border": null,
      "bottom": null,
      "display": null,
      "flex": null,
      "flex_flow": null,
      "grid_area": null,
      "grid_auto_columns": null,
      "grid_auto_flow": null,
      "grid_auto_rows": null,
      "grid_column": null,
      "grid_gap": null,
      "grid_row": null,
      "grid_template_areas": null,
      "grid_template_columns": null,
      "grid_template_rows": null,
      "height": null,
      "justify_content": null,
      "justify_items": null,
      "left": null,
      "margin": null,
      "max_height": null,
      "max_width": null,
      "min_height": null,
      "min_width": null,
      "object_fit": null,
      "object_position": null,
      "order": null,
      "overflow": null,
      "overflow_x": null,
      "overflow_y": null,
      "padding": null,
      "right": null,
      "top": null,
      "visibility": null,
      "width": null
     }
    }
   }
  }
 },
 "nbformat": 4,
 "nbformat_minor": 1
}
